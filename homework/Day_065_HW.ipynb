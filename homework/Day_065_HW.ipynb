{
 "cells": [
  {
   "cell_type": "markdown",
   "metadata": {},
   "source": [
    "# 作業\n",
    "* 選擇分類資料集(右下)-螺旋雙臂 - 交錯六群，限定特徵只能使用前兩個，隱藏層 2 層滿 (共 8 * 2 =16 個神經元)，  \n",
    "  遞迴次數只允許跑到500次，但可以自由調整 批次大小、學習速率、啟動函數、正規化選項與參數\n",
    "* 在上述限制下，挑戰看看測試誤差 (Test Loss) 最低能到多少? 請回答你的上述幾項參數與 Test Loss 數"
   ]
  },
  {
   "cell_type": "markdown",
   "metadata": {
    "collapsed": true
   },
   "source": []
  },
  {
   "cell_type": "markdown",
   "metadata": {},
   "source": [
    "#調Activation  \n",
    "Batch, LearningRate, Activation, RegularizationRate => TestLoss   \n",
    "**10, 0.03, Tanh, None, 0 => 0.011**  default  \n",
    "10, 0.03, ReLU, None, 0 => 0.015   \n",
    "10, 0.03, Sigmoid, None, 0 => 0.021  \n",
    "10, 0.03, Linear, None, 0 => 0.044  \n",
    "  \n",
    "#調Learning Rate  \n",
    "10, 0.003, Tanh, None, 0 => 0.019  \n",
    "10, 0.01, Tanh, None, 0 => 0.013  \n",
    "10, 0.1, Tanh, None, 0 => 0.009  \n",
    "**10, 1, Tanh, None, 0 => 0.007**  \n",
    "10, 3, Tanh, None, 0 => NaN\n",
    "  \n",
    "#調Batch Size  \n",
    "20, 0.03, Tanh, None, 0 => 0.014   \n",
    "30, 0.03, Tanh, None, 0 => 0.015  \n",
    "5, 0.03, Tanh, None, 0 => 0.010  \n",
    "3, 0.03, Tanh, None, 0 => 0.007  \n",
    "2, 0.03, Tanh, None, 0 => 0.006  \n",
    "**1, 0.03, Tanh, None, 0 => 0.003**  \n",
    "  \n",
    "#調Regularization Rate  \n",
    "10, 0.03, Tanh, L1, 0 => 0.011  \n",
    "10, 0.03, Tanh, L2, 0 => 0.011  \n",
    "\n",
    "1, 1, Tanh, None => NaN  \n",
    "1, 0.1, Tanh, None => 0.008  \n",
    "\n",
    "BathSize=10  \n",
    "LearningRate=1  \n",
    "Activation=Tanh  \n",
    "RegularizationRate=0  \n",
    "TestLoss=>0.003  \n"
   ]
  }
 ],
 "metadata": {
  "kernelspec": {
   "display_name": "Python 3",
   "language": "python",
   "name": "python3"
  },
  "language_info": {
   "codemirror_mode": {
    "name": "ipython",
    "version": 3
   },
   "file_extension": ".py",
   "mimetype": "text/x-python",
   "name": "python",
   "nbconvert_exporter": "python",
   "pygments_lexer": "ipython3",
   "version": "3.7.3"
  }
 },
 "nbformat": 4,
 "nbformat_minor": 2
}

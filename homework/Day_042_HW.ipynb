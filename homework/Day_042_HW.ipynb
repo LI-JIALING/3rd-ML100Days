{
 "cells": [
  {
   "cell_type": "markdown",
   "metadata": {},
   "source": [
    "## [作業重點]\n",
    "目前你應該已經要很清楚資料集中，資料的型態是什麼樣子囉！包含特徵 (features) 與標籤 (labels)。因此要記得未來不管什麼專案，必須要把資料清理成相同的格式，才能送進模型訓練。\n",
    "今天的作業開始踏入決策樹這個非常重要的模型，請務必確保你理解模型中每個超參數的意思，並試著調整看看，對最終預測結果的影響為何"
   ]
  },
  {
   "cell_type": "markdown",
   "metadata": {},
   "source": [
    "## 作業\n",
    "\n",
    "1. 試著調整 DecisionTreeClassifier(...) 中的參數，並觀察是否會改變結果？\n",
    "2. 改用其他資料集 (boston, wine)，並與回歸模型的結果進行比較"
   ]
  },
  {
   "cell_type": "code",
   "execution_count": 28,
   "metadata": {},
   "outputs": [
    {
     "name": "stdout",
     "output_type": "stream",
     "text": [
      "Acuuracy:  0.9736842105263158\n",
      "['sepal length (cm)', 'sepal width (cm)', 'petal length (cm)', 'petal width (cm)']\n",
      "Feature importance:  [0.         0.         0.06405315 0.93594685]\n",
      "Acuuracy:  0.9736842105263158\n",
      "['sepal length (cm)', 'sepal width (cm)', 'petal length (cm)', 'petal width (cm)']\n",
      "Feature importance:  [0.0050521 0.        0.0344831 0.9604648]\n",
      "Acuuracy:  0.9736842105263158\n",
      "['sepal length (cm)', 'sepal width (cm)', 'petal length (cm)', 'petal width (cm)']\n",
      "Feature importance:  [0.01796599 0.         0.52229134 0.45974266]\n",
      "\n",
      "\n",
      " Boston Dataset:\n",
      "Mean squared error: 27.65\n",
      "['CRIM' 'ZN' 'INDUS' 'CHAS' 'NOX' 'RM' 'AGE' 'DIS' 'RAD' 'TAX' 'PTRATIO'\n",
      " 'B' 'LSTAT']\n",
      "Feature importance:  [7.56779238e-02 1.39158922e-03 9.17215394e-03 2.68523850e-04\n",
      " 2.90231126e-02 5.43061136e-01 2.06177402e-02 5.75622933e-02\n",
      " 4.40277834e-04 1.17776786e-02 2.01527930e-02 9.45955315e-03\n",
      " 2.21395224e-01]\n",
      "\n",
      "\n",
      " Wine Dataset:\n",
      "Acuuracy:  0.8444444444444444\n",
      "['alcohol', 'malic_acid', 'ash', 'alcalinity_of_ash', 'magnesium', 'total_phenols', 'flavanoids', 'nonflavanoid_phenols', 'proanthocyanins', 'color_intensity', 'hue', 'od280/od315_of_diluted_wines', 'proline']\n",
      "Feature importance:  [0.06286646 0.         0.         0.         0.04405085 0.08158611\n",
      " 0.         0.         0.         0.33702516 0.         0.08582143\n",
      " 0.38865   ]\n"
     ]
    }
   ],
   "source": [
    "from sklearn import datasets, metrics\n",
    "\n",
    "# 如果是分類問題，請使用 DecisionTreeClassifier，若為回歸問題，請使用 DecisionTreeRegressor\n",
    "from sklearn.tree import DecisionTreeClassifier, DecisionTreeRegressor\n",
    "from sklearn.model_selection import train_test_split\n",
    "\n",
    "\n",
    "\n",
    "def DCTreeParaTest(dataSet,problemType,hasPara,criter, maxDepth,minSample,minLeaf):\n",
    "    # 切分訓練集/測試集\n",
    "    x_train, x_test, y_train, y_test = train_test_split(dataSet.data, dataSet.target, test_size=0.25, random_state=4)\n",
    "\n",
    "    # 建立模型\n",
    "    if problemType=='Regression':\n",
    "        clf = DecisionTreeRegressor()\n",
    "        \n",
    "    else:\n",
    "        clf = DecisionTreeClassifier(\n",
    "            criterion=criter,\n",
    "            max_depth=maxDepth,\n",
    "            min_samples_split=minSample,\n",
    "            min_samples_leaf=minLeaf\n",
    "        )\n",
    "\n",
    "        #若無指定參數，則呼叫default設定decison tree模型\n",
    "        if hasPara==False:\n",
    "            clf=DecisionTreeClassifier()\n",
    "    \n",
    "    # 訓練模型\n",
    "    clf.fit(x_train, y_train)\n",
    "\n",
    "    # 預測測試集\n",
    "    y_pred = clf.predict(x_test)\n",
    "    \n",
    "    if problemType=='Regression':\n",
    "        print(\"Mean squared error: %.2f\"% metrics.mean_squared_error(y_test, y_pred))\n",
    "    else:\n",
    "        print(\"Acuuracy: \", metrics.accuracy_score(y_test, y_pred))\n",
    "    print(dataSet.feature_names)\n",
    "    print(\"Feature importance: \", clf.feature_importances_)\n",
    "    \n",
    "# 讀取鳶尾花資料集\n",
    "dataSet = datasets.load_iris()\n",
    "DCTreeParaTest(dataSet,'Classification',True,'gini', 3,2,1)\n",
    "DCTreeParaTest(dataSet,'Classification',True,'gini', 5,5,5)\n",
    "DCTreeParaTest(dataSet,'Classification',True,'gini', 10,2,1)\n",
    "\n",
    "print('\\n\\n Boston Dataset:')\n",
    "#boston資料集\n",
    "dataSet = datasets.load_boston()\n",
    "DCTreeParaTest(dataSet,'Regression',False,'gini', 0,0,0)\n",
    "\n",
    "print('\\n\\n Wine Dataset:')\n",
    "#wine資料集\n",
    "dataSet = datasets.load_wine()\n",
    "DCTreeParaTest(dataSet,'Classification',False,'gini',0,0,0)"
   ]
  }
 ],
 "metadata": {
  "kernelspec": {
   "display_name": "Python 3",
   "language": "python",
   "name": "python3"
  },
  "language_info": {
   "codemirror_mode": {
    "name": "ipython",
    "version": 3
   },
   "file_extension": ".py",
   "mimetype": "text/x-python",
   "name": "python",
   "nbconvert_exporter": "python",
   "pygments_lexer": "ipython3",
   "version": "3.7.3"
  }
 },
 "nbformat": 4,
 "nbformat_minor": 2
}

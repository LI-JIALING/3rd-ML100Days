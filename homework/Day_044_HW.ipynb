{
 "cells": [
  {
   "cell_type": "markdown",
   "metadata": {},
   "source": [
    "## [作業重點]\n",
    "確保你了解隨機森林模型中每個超參數的意義，並觀察調整超參數對結果的影響"
   ]
  },
  {
   "cell_type": "markdown",
   "metadata": {},
   "source": [
    "## 作業\n",
    "\n",
    "1. 試著調整 RandomForestClassifier(...) 中的參數，並觀察是否會改變結果？\n",
    "2. 改用其他資料集 (boston, wine)，並與回歸模型與決策樹的結果進行比較"
   ]
  },
  {
   "cell_type": "code",
   "execution_count": 11,
   "metadata": {},
   "outputs": [
    {
     "name": "stdout",
     "output_type": "stream",
     "text": [
      "Accuracy:  0.9473684210526315\n",
      "['sepal length (cm)', 'sepal width (cm)', 'petal length (cm)', 'petal width (cm)']\n",
      "Feature importance:  [0.10272886 0.04195135 0.46376397 0.39155583]\n",
      "Accuracy:  0.9473684210526315\n",
      "['sepal length (cm)', 'sepal width (cm)', 'petal length (cm)', 'petal width (cm)']\n",
      "Feature importance:  [0.08581586 0.02698356 0.37517674 0.51202385]\n",
      "\n",
      "\n",
      " Boston:\n",
      "Accuracy:  14.7113842519685\n",
      "['CRIM' 'ZN' 'INDUS' 'CHAS' 'NOX' 'RM' 'AGE' 'DIS' 'RAD' 'TAX' 'PTRATIO'\n",
      " 'B' 'LSTAT']\n",
      "Feature importance:  [7.76805506e-02 6.56489278e-04 7.58224755e-03 3.96259699e-05\n",
      " 8.99510575e-03 4.44063510e-01 1.60526935e-02 5.51222649e-02\n",
      " 2.05309265e-03 1.66449553e-02 1.55098495e-02 1.65402341e-02\n",
      " 3.39059380e-01]\n",
      "\n",
      "\n",
      " Wine:\n",
      "Accuracy:  1.0\n",
      "['alcohol', 'malic_acid', 'ash', 'alcalinity_of_ash', 'magnesium', 'total_phenols', 'flavanoids', 'nonflavanoid_phenols', 'proanthocyanins', 'color_intensity', 'hue', 'od280/od315_of_diluted_wines', 'proline']\n",
      "Feature importance:  [0.313006   0.05855719 0.03030283 0.05125712 0.02594732 0.09690142\n",
      " 0.16074341 0.00528436 0.03093666 0.0921     0.0429253  0.04663904\n",
      " 0.04539935]\n",
      "Accuracy:  0.9333333333333333\n",
      "['alcohol', 'malic_acid', 'ash', 'alcalinity_of_ash', 'magnesium', 'total_phenols', 'flavanoids', 'nonflavanoid_phenols', 'proanthocyanins', 'color_intensity', 'hue', 'od280/od315_of_diluted_wines', 'proline']\n",
      "Feature importance:  [0.17999049 0.         0.00306869 0.0259974  0.00905565 0.\n",
      " 0.08885739 0.         0.02714753 0.22276886 0.1490144  0.19405663\n",
      " 0.10004296]\n"
     ]
    },
    {
     "name": "stderr",
     "output_type": "stream",
     "text": [
      "C:\\Users\\A60104\\AppData\\Local\\Continuum\\anaconda3\\lib\\site-packages\\sklearn\\ensemble\\forest.py:245: FutureWarning: The default value of n_estimators will change from 10 in version 0.20 to 100 in 0.22.\n",
      "  \"10 in version 0.20 to 100 in 0.22.\", FutureWarning)\n"
     ]
    }
   ],
   "source": [
    "from sklearn import datasets, metrics\n",
    "from sklearn.ensemble import RandomForestClassifier, RandomForestRegressor\n",
    "from sklearn.model_selection import train_test_split\n",
    "\n",
    "def RFC(dataSet,hasPara,estimator,maxDepth):\n",
    "    # 切分訓練集/測試集\n",
    "    x_train, x_test, y_train, y_test = train_test_split(dataSet.data, dataSet.target, test_size=0.25, random_state=4)\n",
    "\n",
    "    # 建立模型 (使用 20 顆樹，每棵樹的最大深度為 4)\n",
    "    if hasPara==True:\n",
    "        clf = RandomForestClassifier(n_estimators=estimator, max_depth=maxDepth)\n",
    "    else:\n",
    "        clf = RandomForestClassifier()\n",
    "\n",
    "    # 訓練模型\n",
    "    clf.fit(x_train, y_train)\n",
    "\n",
    "    # 預測測試集\n",
    "    y_pred = clf.predict(x_test)\n",
    "\n",
    "    acc = metrics.accuracy_score(y_test, y_pred)\n",
    "    print(\"Accuracy: \", acc)\n",
    "    print(dataSet.feature_names)\n",
    "    print(\"Feature importance: \", clf.feature_importances_)\n",
    "    \n",
    "def RFR(dataSet):\n",
    "    # 切分訓練集/測試集\n",
    "    x_train, x_test, y_train, y_test = train_test_split(dataSet.data, dataSet.target, test_size=0.25, random_state=4)\n",
    "\n",
    "    # 建立模型 (使用 20 顆樹，每棵樹的最大深度為 4)\n",
    "    clf = RandomForestRegressor()\n",
    "\n",
    "    # 訓練模型\n",
    "    clf.fit(x_train, y_train)\n",
    "\n",
    "    # 預測測試集\n",
    "    y_pred = clf.predict(x_test)\n",
    "\n",
    "    acc = metrics.mean_squared_error(y_test, y_pred)\n",
    "    print(\"Accuracy: \", acc)\n",
    "    print(dataSet.feature_names)\n",
    "    print(\"Feature importance: \", clf.feature_importances_)\n",
    "    \n",
    "# 讀取鳶尾花資料集\n",
    "dataSet = datasets.load_iris()\n",
    "RFC(dataSet,True,20,4)\n",
    "RFC(dataSet,True,30,10)\n",
    "\n",
    "print(\"\\n\\n Boston:\")\n",
    "# 讀取Boston資料集\n",
    "dataSet = datasets.load_boston()\n",
    "RFR(dataSet)\n",
    "\n",
    "print(\"\\n\\n Wine:\")\n",
    "# 讀取Wine資料集\n",
    "dataSet = datasets.load_wine()\n",
    "RFC(dataSet,True,10,5)\n",
    "RFC(dataSet,True,6,3)"
   ]
  }
 ],
 "metadata": {
  "kernelspec": {
   "display_name": "Python 3",
   "language": "python",
   "name": "python3"
  },
  "language_info": {
   "codemirror_mode": {
    "name": "ipython",
    "version": 3
   },
   "file_extension": ".py",
   "mimetype": "text/x-python",
   "name": "python",
   "nbconvert_exporter": "python",
   "pygments_lexer": "ipython3",
   "version": "3.7.3"
  }
 },
 "nbformat": 4,
 "nbformat_minor": 2
}

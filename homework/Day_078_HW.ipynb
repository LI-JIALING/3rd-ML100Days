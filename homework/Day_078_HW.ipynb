{
 "cells": [
  {
   "cell_type": "markdown",
   "metadata": {},
   "source": [
    "## Work\n",
    "1. 請嘗試將 preproc_x 替換成以每筆資料的 min/max 進行標準化至 -1 ~ 1 間，再進行訓練\n",
    "2. 請嘗試將 mlp 疊更深 (e.g 5~10 層)，進行訓練後觀察 learning curve 的走勢\n",
    "3. (optional) 請改用 GPU 進行訓練 (如果你有 GPU 的話)，比較使用 CPU 與 GPU 的訓練速度"
   ]
  },
  {
   "cell_type": "code",
   "execution_count": 11,
   "metadata": {},
   "outputs": [
    {
     "name": "stdout",
     "output_type": "stream",
     "text": [
      "Sat Jun 27 20:27:37 2020       \n",
      "+-----------------------------------------------------------------------------+\n",
      "| NVIDIA-SMI 441.45       Driver Version: 441.45       CUDA Version: 10.2     |\n",
      "|-------------------------------+----------------------+----------------------+\n",
      "| GPU  Name            TCC/WDDM | Bus-Id        Disp.A | Volatile Uncorr. ECC |\n",
      "| Fan  Temp  Perf  Pwr:Usage/Cap|         Memory-Usage | GPU-Util  Compute M. |\n",
      "|===============================+======================+======================|\n",
      "|   0  GeForce GTX 105... WDDM  | 00000000:02:00.0 Off |                  N/A |\n",
      "| N/A   46C    P8    N/A /  N/A |     68MiB /  2048MiB |      0%      Default |\n",
      "+-------------------------------+----------------------+----------------------+\n",
      "                                                                               \n",
      "+-----------------------------------------------------------------------------+\n",
      "| Processes:                                                       GPU Memory |\n",
      "|  GPU       PID   Type   Process name                             Usage      |\n",
      "|=============================================================================|\n",
      "|  No running processes found                                                 |\n",
      "+-----------------------------------------------------------------------------+\n"
     ]
    }
   ],
   "source": [
    "## \n",
    "\"\"\"\n",
    "Your code here (optional)\n",
    "確認硬體資源\n",
    "\"\"\"\n",
    "!nvidia-smi"
   ]
  },
  {
   "cell_type": "code",
   "execution_count": 12,
   "metadata": {},
   "outputs": [],
   "source": [
    "import os\n",
    "import keras\n",
    "\n",
    "# 請嘗試設定 GPU：os.environ\n",
    "os.environ[\"CUDA_VISIBLE_DEVICES\"] = \"0\""
   ]
  },
  {
   "cell_type": "code",
   "execution_count": 13,
   "metadata": {},
   "outputs": [],
   "source": [
    "train, test = keras.datasets.cifar10.load_data()"
   ]
  },
  {
   "cell_type": "code",
   "execution_count": 14,
   "metadata": {},
   "outputs": [],
   "source": [
    "## 資料前處理\n",
    "\"\"\"\n",
    "Your code here\n",
    "\"\"\"\n",
    "def preproc_x(x, flatten=True):\n",
    "    x = 2*(((x - x.min()) / (x.max() - x.min()))-0.5)\n",
    "    if flatten:\n",
    "        x = x.reshape((len(x), -1))\n",
    "    return x\n",
    "\n",
    "def preproc_y(y, num_classes=10):\n",
    "    if y.shape[-1] == 1:\n",
    "        y = keras.utils.to_categorical(y, num_classes)\n",
    "    return y"
   ]
  },
  {
   "cell_type": "code",
   "execution_count": 15,
   "metadata": {},
   "outputs": [],
   "source": [
    "x_train, y_train = train\n",
    "x_test, y_test = test\n",
    "\n",
    "# Preproc the inputs\n",
    "x_train = preproc_x(x_train)\n",
    "x_test = preproc_x(x_test)\n",
    "\n",
    "# Preprc the outputs\n",
    "y_train = preproc_y(y_train)\n",
    "y_test = preproc_y(y_test)"
   ]
  },
  {
   "cell_type": "code",
   "execution_count": 16,
   "metadata": {},
   "outputs": [
    {
     "name": "stdout",
     "output_type": "stream",
     "text": [
      "Model: \"model_2\"\n",
      "_________________________________________________________________\n",
      "Layer (type)                 Output Shape              Param #   \n",
      "=================================================================\n",
      "input_2 (InputLayer)         (None, 3072)              0         \n",
      "_________________________________________________________________\n",
      "hidden_layer1 (Dense)        (None, 512)               1573376   \n",
      "_________________________________________________________________\n",
      "hidden_layer2 (Dense)        (None, 256)               131328    \n",
      "_________________________________________________________________\n",
      "hidden_layer3 (Dense)        (None, 128)               32896     \n",
      "_________________________________________________________________\n",
      "hidden_layer4 (Dense)        (None, 128)               16512     \n",
      "_________________________________________________________________\n",
      "hidden_layer5 (Dense)        (None, 128)               16512     \n",
      "_________________________________________________________________\n",
      "output (Dense)               (None, 10)                1290      \n",
      "=================================================================\n",
      "Total params: 1,771,914\n",
      "Trainable params: 1,771,914\n",
      "Non-trainable params: 0\n",
      "_________________________________________________________________\n"
     ]
    }
   ],
   "source": [
    "\"\"\"Code Here\n",
    "建立你的神經網路\n",
    "\"\"\"\n",
    "def build_mlp(input_shape, output_units=10, num_neurons=[512, 256, 128, 128, 128]):\n",
    "    input_layer = keras.layers.Input(input_shape)\n",
    "    \n",
    "    for i, n_units in enumerate(num_neurons):\n",
    "        if i == 0:\n",
    "            x = keras.layers.Dense(units=n_units, activation=\"relu\", name=\"hidden_layer\"+str(i+1))(input_layer)\n",
    "        else:\n",
    "            x = keras.layers.Dense(units=n_units, activation=\"relu\", name=\"hidden_layer\"+str(i+1))(x)\n",
    "    \n",
    "    out = keras.layers.Dense(units=output_units, activation=\"softmax\", name=\"output\")(x)\n",
    "    \n",
    "    model = keras.models.Model(inputs=[input_layer], outputs=[out])\n",
    "    return model\n",
    "\n",
    "model = build_mlp(input_shape=x_train.shape[1:])\n",
    "model.summary()"
   ]
  },
  {
   "cell_type": "code",
   "execution_count": 17,
   "metadata": {},
   "outputs": [],
   "source": [
    "## 超參數設定\n",
    "LEARNING_RATE = 0.001\n",
    "EPOCHS = 100\n",
    "BATCH_SIZE = 256"
   ]
  },
  {
   "cell_type": "code",
   "execution_count": 18,
   "metadata": {},
   "outputs": [],
   "source": [
    "optimizer = keras.optimizers.Adam(lr=LEARNING_RATE)\n",
    "model.compile(loss=\"categorical_crossentropy\", metrics=[\"accuracy\"], optimizer=optimizer)"
   ]
  },
  {
   "cell_type": "code",
   "execution_count": 19,
   "metadata": {},
   "outputs": [
    {
     "name": "stdout",
     "output_type": "stream",
     "text": [
      "Train on 50000 samples, validate on 10000 samples\n",
      "Epoch 1/100\n",
      "50000/50000 [==============================] - 26s 514us/step - loss: 1.6978 - accuracy: 0.3944 - val_loss: 1.5561 - val_accuracy: 0.4542\n",
      "Epoch 2/100\n",
      "50000/50000 [==============================] - 24s 485us/step - loss: 1.4606 - accuracy: 0.4834 - val_loss: 1.4738 - val_accuracy: 0.4834\n",
      "Epoch 3/100\n",
      "50000/50000 [==============================] - 23s 459us/step - loss: 1.3455 - accuracy: 0.5234 - val_loss: 1.4396 - val_accuracy: 0.4971\n",
      "Epoch 4/100\n",
      "50000/50000 [==============================] - 24s 486us/step - loss: 1.2540 - accuracy: 0.5562 - val_loss: 1.3559 - val_accuracy: 0.5261\n",
      "Epoch 5/100\n",
      "50000/50000 [==============================] - 24s 479us/step - loss: 1.1671 - accuracy: 0.5878 - val_loss: 1.3669 - val_accuracy: 0.5274\n",
      "Epoch 6/100\n",
      "50000/50000 [==============================] - 23s 454us/step - loss: 1.0885 - accuracy: 0.6144 - val_loss: 1.3554 - val_accuracy: 0.5224\n",
      "Epoch 7/100\n",
      "50000/50000 [==============================] - 24s 475us/step - loss: 1.0074 - accuracy: 0.6407 - val_loss: 1.3893 - val_accuracy: 0.5351\n",
      "Epoch 8/100\n",
      "50000/50000 [==============================] - 25s 496us/step - loss: 0.9414 - accuracy: 0.6667 - val_loss: 1.3831 - val_accuracy: 0.5363\n",
      "Epoch 9/100\n",
      "50000/50000 [==============================] - 24s 476us/step - loss: 0.8698 - accuracy: 0.6919 - val_loss: 1.4272 - val_accuracy: 0.5318\n",
      "Epoch 10/100\n",
      "50000/50000 [==============================] - 25s 495us/step - loss: 0.8021 - accuracy: 0.7137 - val_loss: 1.4810 - val_accuracy: 0.5357\n",
      "Epoch 11/100\n",
      "50000/50000 [==============================] - 24s 475us/step - loss: 0.7432 - accuracy: 0.7360 - val_loss: 1.5194 - val_accuracy: 0.5309\n",
      "Epoch 12/100\n",
      "50000/50000 [==============================] - 24s 489us/step - loss: 0.6825 - accuracy: 0.7563 - val_loss: 1.5945 - val_accuracy: 0.5346\n",
      "Epoch 13/100\n",
      "50000/50000 [==============================] - 24s 483us/step - loss: 0.6243 - accuracy: 0.7786 - val_loss: 1.6701 - val_accuracy: 0.5319\n",
      "Epoch 14/100\n",
      "50000/50000 [==============================] - 23s 466us/step - loss: 0.5794 - accuracy: 0.7943 - val_loss: 1.7318 - val_accuracy: 0.5364\n",
      "Epoch 15/100\n",
      "50000/50000 [==============================] - 25s 494us/step - loss: 0.5323 - accuracy: 0.8114 - val_loss: 1.7564 - val_accuracy: 0.5332\n",
      "Epoch 16/100\n",
      "50000/50000 [==============================] - 24s 476us/step - loss: 0.4794 - accuracy: 0.8304 - val_loss: 1.9363 - val_accuracy: 0.5344\n",
      "Epoch 17/100\n",
      "50000/50000 [==============================] - 23s 466us/step - loss: 0.4541 - accuracy: 0.8385 - val_loss: 1.9544 - val_accuracy: 0.5331\n",
      "Epoch 18/100\n",
      "50000/50000 [==============================] - 24s 487us/step - loss: 0.3958 - accuracy: 0.8613 - val_loss: 2.1587 - val_accuracy: 0.5319\n",
      "Epoch 19/100\n",
      "50000/50000 [==============================] - 23s 468us/step - loss: 0.3757 - accuracy: 0.8664 - val_loss: 2.2000 - val_accuracy: 0.5236\n",
      "Epoch 20/100\n",
      "50000/50000 [==============================] - 24s 479us/step - loss: 0.3523 - accuracy: 0.8759 - val_loss: 2.2474 - val_accuracy: 0.5335\n",
      "Epoch 21/100\n",
      "50000/50000 [==============================] - 23s 469us/step - loss: 0.3337 - accuracy: 0.8815 - val_loss: 2.3252 - val_accuracy: 0.5303\n",
      "Epoch 22/100\n",
      "50000/50000 [==============================] - 23s 464us/step - loss: 0.3147 - accuracy: 0.8896 - val_loss: 2.3606 - val_accuracy: 0.5276\n",
      "Epoch 23/100\n",
      "50000/50000 [==============================] - 23s 465us/step - loss: 0.2893 - accuracy: 0.8995 - val_loss: 2.5155 - val_accuracy: 0.5283\n",
      "Epoch 24/100\n",
      "50000/50000 [==============================] - 24s 473us/step - loss: 0.2732 - accuracy: 0.9037 - val_loss: 2.5898 - val_accuracy: 0.5368\n",
      "Epoch 25/100\n",
      "50000/50000 [==============================] - 24s 473us/step - loss: 0.2587 - accuracy: 0.9087 - val_loss: 2.6124 - val_accuracy: 0.5375\n",
      "Epoch 26/100\n",
      "50000/50000 [==============================] - 24s 480us/step - loss: 0.2567 - accuracy: 0.9105 - val_loss: 2.6801 - val_accuracy: 0.5218\n",
      "Epoch 27/100\n",
      "50000/50000 [==============================] - 24s 484us/step - loss: 0.2394 - accuracy: 0.9165 - val_loss: 2.7870 - val_accuracy: 0.5358\n",
      "Epoch 28/100\n",
      "50000/50000 [==============================] - 24s 470us/step - loss: 0.2088 - accuracy: 0.9266 - val_loss: 2.9186 - val_accuracy: 0.5267\n",
      "Epoch 29/100\n",
      "50000/50000 [==============================] - 24s 472us/step - loss: 0.2080 - accuracy: 0.9286 - val_loss: 3.0003 - val_accuracy: 0.5248\n",
      "Epoch 30/100\n",
      "50000/50000 [==============================] - 24s 476us/step - loss: 0.2051 - accuracy: 0.9296 - val_loss: 2.9033 - val_accuracy: 0.5263\n",
      "Epoch 31/100\n",
      "50000/50000 [==============================] - 29s 572us/step - loss: 0.2148 - accuracy: 0.9258 - val_loss: 2.9592 - val_accuracy: 0.5319\n",
      "Epoch 32/100\n",
      "50000/50000 [==============================] - 29s 584us/step - loss: 0.1980 - accuracy: 0.9312 - val_loss: 3.0077 - val_accuracy: 0.5326\n",
      "Epoch 33/100\n",
      "50000/50000 [==============================] - 29s 572us/step - loss: 0.1781 - accuracy: 0.9377 - val_loss: 3.2269 - val_accuracy: 0.5295\n",
      "Epoch 34/100\n",
      "50000/50000 [==============================] - 28s 565us/step - loss: 0.1716 - accuracy: 0.9407 - val_loss: 3.1760 - val_accuracy: 0.5269\n",
      "Epoch 35/100\n",
      "50000/50000 [==============================] - 28s 568us/step - loss: 0.1812 - accuracy: 0.9378 - val_loss: 3.3372 - val_accuracy: 0.5264\n",
      "Epoch 36/100\n",
      "50000/50000 [==============================] - 28s 568us/step - loss: 0.1602 - accuracy: 0.9438 - val_loss: 3.3576 - val_accuracy: 0.5285\n",
      "Epoch 37/100\n",
      "50000/50000 [==============================] - 29s 587us/step - loss: 0.1669 - accuracy: 0.9420 - val_loss: 3.3307 - val_accuracy: 0.5260\n",
      "Epoch 38/100\n",
      "50000/50000 [==============================] - 26s 526us/step - loss: 0.1551 - accuracy: 0.9475 - val_loss: 3.2643 - val_accuracy: 0.5307\n",
      "Epoch 39/100\n",
      "50000/50000 [==============================] - 23s 464us/step - loss: 0.1585 - accuracy: 0.9463 - val_loss: 3.3849 - val_accuracy: 0.5378\n",
      "Epoch 40/100\n",
      "50000/50000 [==============================] - 24s 475us/step - loss: 0.1532 - accuracy: 0.9484 - val_loss: 3.3199 - val_accuracy: 0.5237\n",
      "Epoch 41/100\n",
      "50000/50000 [==============================] - 22s 448us/step - loss: 0.1452 - accuracy: 0.9502 - val_loss: 3.4265 - val_accuracy: 0.5280\n",
      "Epoch 42/100\n",
      "50000/50000 [==============================] - 24s 476us/step - loss: 0.1299 - accuracy: 0.9553 - val_loss: 3.6035 - val_accuracy: 0.5246\n",
      "Epoch 43/100\n",
      "50000/50000 [==============================] - 27s 549us/step - loss: 0.1460 - accuracy: 0.9504 - val_loss: 3.5714 - val_accuracy: 0.5351\n",
      "Epoch 44/100\n",
      "50000/50000 [==============================] - 29s 571us/step - loss: 0.1452 - accuracy: 0.9513 - val_loss: 3.5831 - val_accuracy: 0.5324\n",
      "Epoch 45/100\n",
      "50000/50000 [==============================] - 30s 602us/step - loss: 0.1337 - accuracy: 0.9543 - val_loss: 3.4679 - val_accuracy: 0.5297\n",
      "Epoch 46/100\n",
      "50000/50000 [==============================] - 30s 609us/step - loss: 0.1283 - accuracy: 0.9575 - val_loss: 3.6473 - val_accuracy: 0.5297\n",
      "Epoch 47/100\n",
      "50000/50000 [==============================] - 31s 612us/step - loss: 0.1155 - accuracy: 0.9604 - val_loss: 3.6875 - val_accuracy: 0.5249\n",
      "Epoch 48/100\n",
      "50000/50000 [==============================] - 31s 612us/step - loss: 0.1350 - accuracy: 0.9543 - val_loss: 3.6742 - val_accuracy: 0.5274\n",
      "Epoch 49/100\n",
      "50000/50000 [==============================] - 30s 609us/step - loss: 0.1366 - accuracy: 0.9529 - val_loss: 3.6043 - val_accuracy: 0.5300\n",
      "Epoch 50/100\n",
      "50000/50000 [==============================] - 28s 568us/step - loss: 0.1265 - accuracy: 0.9585 - val_loss: 3.6791 - val_accuracy: 0.5258\n",
      "Epoch 51/100\n",
      "50000/50000 [==============================] - 30s 598us/step - loss: 0.1141 - accuracy: 0.9616 - val_loss: 3.7781 - val_accuracy: 0.5296\n",
      "Epoch 52/100\n",
      "50000/50000 [==============================] - 30s 601us/step - loss: 0.1162 - accuracy: 0.9615 - val_loss: 3.7272 - val_accuracy: 0.5201\n",
      "Epoch 53/100\n",
      "50000/50000 [==============================] - 30s 594us/step - loss: 0.1274 - accuracy: 0.9585 - val_loss: 3.8186 - val_accuracy: 0.5289\n",
      "Epoch 54/100\n",
      "50000/50000 [==============================] - 29s 574us/step - loss: 0.1124 - accuracy: 0.9621 - val_loss: 3.9049 - val_accuracy: 0.5278\n"
     ]
    },
    {
     "name": "stdout",
     "output_type": "stream",
     "text": [
      "Epoch 55/100\n",
      "50000/50000 [==============================] - 28s 565us/step - loss: 0.1048 - accuracy: 0.9648 - val_loss: 3.9343 - val_accuracy: 0.5279\n",
      "Epoch 56/100\n",
      "50000/50000 [==============================] - 29s 582us/step - loss: 0.1150 - accuracy: 0.9624 - val_loss: 3.8677 - val_accuracy: 0.5229\n",
      "Epoch 57/100\n",
      "50000/50000 [==============================] - 29s 581us/step - loss: 0.1221 - accuracy: 0.9597 - val_loss: 3.9182 - val_accuracy: 0.5319\n",
      "Epoch 58/100\n",
      "50000/50000 [==============================] - 29s 589us/step - loss: 0.0970 - accuracy: 0.9681 - val_loss: 3.8065 - val_accuracy: 0.5306\n",
      "Epoch 59/100\n",
      "50000/50000 [==============================] - 29s 571us/step - loss: 0.0977 - accuracy: 0.9673 - val_loss: 4.0922 - val_accuracy: 0.5245\n",
      "Epoch 60/100\n",
      "50000/50000 [==============================] - 30s 601us/step - loss: 0.1276 - accuracy: 0.9593 - val_loss: 3.8067 - val_accuracy: 0.5301\n",
      "Epoch 61/100\n",
      "50000/50000 [==============================] - 29s 588us/step - loss: 0.0947 - accuracy: 0.9698 - val_loss: 4.0103 - val_accuracy: 0.5271\n",
      "Epoch 62/100\n",
      "50000/50000 [==============================] - 30s 597us/step - loss: 0.0961 - accuracy: 0.9688 - val_loss: 3.9574 - val_accuracy: 0.5316\n",
      "Epoch 63/100\n",
      "50000/50000 [==============================] - 30s 599us/step - loss: 0.1041 - accuracy: 0.9652 - val_loss: 4.0736 - val_accuracy: 0.5302\n",
      "Epoch 64/100\n",
      "50000/50000 [==============================] - 30s 597us/step - loss: 0.0928 - accuracy: 0.9691 - val_loss: 4.1011 - val_accuracy: 0.5310\n",
      "Epoch 65/100\n",
      "50000/50000 [==============================] - 29s 582us/step - loss: 0.0951 - accuracy: 0.9691 - val_loss: 4.1991 - val_accuracy: 0.5240\n",
      "Epoch 66/100\n",
      "50000/50000 [==============================] - 29s 571us/step - loss: 0.1218 - accuracy: 0.9618 - val_loss: 3.7891 - val_accuracy: 0.5247\n",
      "Epoch 67/100\n",
      "50000/50000 [==============================] - 30s 603us/step - loss: 0.1049 - accuracy: 0.9661 - val_loss: 3.7947 - val_accuracy: 0.5350\n",
      "Epoch 68/100\n",
      "50000/50000 [==============================] - 35s 708us/step - loss: 0.0877 - accuracy: 0.9710 - val_loss: 4.1800 - val_accuracy: 0.5297\n",
      "Epoch 69/100\n",
      "50000/50000 [==============================] - 38s 768us/step - loss: 0.0863 - accuracy: 0.9721 - val_loss: 4.1906 - val_accuracy: 0.5282\n",
      "Epoch 70/100\n",
      "50000/50000 [==============================] - 38s 757us/step - loss: 0.0987 - accuracy: 0.9679 - val_loss: 4.1525 - val_accuracy: 0.5288\n",
      "Epoch 71/100\n",
      "50000/50000 [==============================] - 39s 772us/step - loss: 0.0940 - accuracy: 0.9701 - val_loss: 4.1750 - val_accuracy: 0.5330\n",
      "Epoch 72/100\n",
      "50000/50000 [==============================] - 38s 762us/step - loss: 0.0726 - accuracy: 0.9761 - val_loss: 4.2568 - val_accuracy: 0.5335\n",
      "Epoch 73/100\n",
      "50000/50000 [==============================] - 39s 782us/step - loss: 0.0910 - accuracy: 0.9718 - val_loss: 3.8517 - val_accuracy: 0.5308\n",
      "Epoch 74/100\n",
      "50000/50000 [==============================] - 37s 730us/step - loss: 0.0901 - accuracy: 0.9712 - val_loss: 4.1544 - val_accuracy: 0.5250\n",
      "Epoch 75/100\n",
      "50000/50000 [==============================] - 37s 742us/step - loss: 0.0786 - accuracy: 0.9741 - val_loss: 4.2096 - val_accuracy: 0.5298\n",
      "Epoch 76/100\n",
      "50000/50000 [==============================] - 36s 714us/step - loss: 0.0814 - accuracy: 0.9734 - val_loss: 4.2296 - val_accuracy: 0.5240\n",
      "Epoch 77/100\n",
      "50000/50000 [==============================] - 37s 741us/step - loss: 0.0865 - accuracy: 0.9723 - val_loss: 4.0436 - val_accuracy: 0.5312\n",
      "Epoch 78/100\n",
      "50000/50000 [==============================] - 35s 708us/step - loss: 0.0798 - accuracy: 0.9738 - val_loss: 4.0579 - val_accuracy: 0.5260\n",
      "Epoch 79/100\n",
      "50000/50000 [==============================] - 37s 737us/step - loss: 0.0974 - accuracy: 0.9684 - val_loss: 4.1896 - val_accuracy: 0.5242\n",
      "Epoch 80/100\n",
      "50000/50000 [==============================] - 37s 733us/step - loss: 0.0894 - accuracy: 0.9716 - val_loss: 4.4400 - val_accuracy: 0.5188\n",
      "Epoch 81/100\n",
      "50000/50000 [==============================] - 35s 704us/step - loss: 0.0727 - accuracy: 0.9759 - val_loss: 4.2490 - val_accuracy: 0.5240\n",
      "Epoch 82/100\n",
      "50000/50000 [==============================] - 39s 772us/step - loss: 0.0924 - accuracy: 0.9708 - val_loss: 4.0601 - val_accuracy: 0.5259\n",
      "Epoch 83/100\n",
      "50000/50000 [==============================] - 38s 760us/step - loss: 0.0787 - accuracy: 0.9743 - val_loss: 4.2864 - val_accuracy: 0.5298\n",
      "Epoch 84/100\n",
      "50000/50000 [==============================] - 36s 728us/step - loss: 0.0693 - accuracy: 0.9772 - val_loss: 4.4255 - val_accuracy: 0.5326\n",
      "Epoch 85/100\n",
      "50000/50000 [==============================] - 38s 757us/step - loss: 0.0834 - accuracy: 0.9731 - val_loss: 4.1589 - val_accuracy: 0.5290\n",
      "Epoch 86/100\n",
      "50000/50000 [==============================] - 41s 829us/step - loss: 0.0783 - accuracy: 0.9742 - val_loss: 4.3581 - val_accuracy: 0.5249\n",
      "Epoch 87/100\n",
      "50000/50000 [==============================] - 44s 873us/step - loss: 0.0709 - accuracy: 0.9767 - val_loss: 4.4023 - val_accuracy: 0.5287\n",
      "Epoch 88/100\n",
      "50000/50000 [==============================] - 42s 840us/step - loss: 0.0694 - accuracy: 0.9780 - val_loss: 4.4514 - val_accuracy: 0.5320\n",
      "Epoch 89/100\n",
      "50000/50000 [==============================] - 43s 856us/step - loss: 0.0900 - accuracy: 0.9717 - val_loss: 4.1481 - val_accuracy: 0.5309\n",
      "Epoch 90/100\n",
      "50000/50000 [==============================] - 42s 838us/step - loss: 0.0750 - accuracy: 0.9763 - val_loss: 4.1013 - val_accuracy: 0.5263\n",
      "Epoch 91/100\n",
      "50000/50000 [==============================] - 42s 842us/step - loss: 0.0736 - accuracy: 0.9772 - val_loss: 4.3542 - val_accuracy: 0.5337\n",
      "Epoch 92/100\n",
      "50000/50000 [==============================] - 41s 821us/step - loss: 0.0632 - accuracy: 0.9801 - val_loss: 4.4211 - val_accuracy: 0.5326\n",
      "Epoch 93/100\n",
      "50000/50000 [==============================] - 40s 807us/step - loss: 0.0684 - accuracy: 0.9788 - val_loss: 4.3293 - val_accuracy: 0.5311\n",
      "Epoch 94/100\n",
      "50000/50000 [==============================] - 42s 831us/step - loss: 0.0741 - accuracy: 0.9763 - val_loss: 4.2612 - val_accuracy: 0.5325\n",
      "Epoch 95/100\n",
      "50000/50000 [==============================] - 41s 826us/step - loss: 0.0559 - accuracy: 0.9819 - val_loss: 4.6821 - val_accuracy: 0.5326\n",
      "Epoch 96/100\n",
      "50000/50000 [==============================] - 43s 865us/step - loss: 0.0821 - accuracy: 0.9732 - val_loss: 4.2294 - val_accuracy: 0.5341\n",
      "Epoch 97/100\n",
      "50000/50000 [==============================] - 43s 851us/step - loss: 0.0590 - accuracy: 0.9807 - val_loss: 4.6664 - val_accuracy: 0.5317\n",
      "Epoch 98/100\n",
      "50000/50000 [==============================] - 43s 869us/step - loss: 0.0713 - accuracy: 0.9767 - val_loss: 4.3995 - val_accuracy: 0.5319\n",
      "Epoch 99/100\n",
      "50000/50000 [==============================] - 43s 851us/step - loss: 0.0879 - accuracy: 0.9724 - val_loss: 4.2098 - val_accuracy: 0.5317\n",
      "Epoch 100/100\n",
      "50000/50000 [==============================] - 43s 852us/step - loss: 0.0637 - accuracy: 0.9797 - val_loss: 4.4165 - val_accuracy: 0.5281\n"
     ]
    },
    {
     "data": {
      "text/plain": [
       "<keras.callbacks.callbacks.History at 0x25d04526080>"
      ]
     },
     "execution_count": 19,
     "metadata": {},
     "output_type": "execute_result"
    }
   ],
   "source": [
    "model.fit(x_train, y_train, \n",
    "          epochs=EPOCHS, \n",
    "          batch_size=BATCH_SIZE, \n",
    "          validation_data=(x_test, y_test), \n",
    "          shuffle=True)"
   ]
  },
  {
   "cell_type": "code",
   "execution_count": 21,
   "metadata": {},
   "outputs": [
    {
     "data": {
      "image/png": "[encoded data removed]",
      "text/plain": [
       "<Figure size 432x288 with 1 Axes>"
      ]
     },
     "metadata": {
      "needs_background": "light"
     },
     "output_type": "display_data"
    },
    {
     "data": {
      "image/png": "[encoded data removed]",
      "text/plain": [
       "<Figure size 432x288 with 1 Axes>"
      ]
     },
     "metadata": {
      "needs_background": "light"
     },
     "output_type": "display_data"
    }
   ],
   "source": [
    "import matplotlib.pyplot as plt\n",
    "\n",
    "\n",
    "train_loss = model.history.history[\"loss\"]\n",
    "valid_loss = model.history.history[\"val_loss\"]\n",
    "\n",
    "train_acc = model.history.history[\"accuracy\"]\n",
    "valid_acc = model.history.history[\"val_accuracy\"]\n",
    "\n",
    "plt.plot(range(len(train_loss)), train_loss, label=\"train loss\")\n",
    "plt.plot(range(len(valid_loss)), valid_loss, label=\"valid loss\")\n",
    "plt.legend()\n",
    "plt.title(\"Loss\")\n",
    "plt.show()\n",
    "\n",
    "plt.plot(range(len(train_acc)), train_acc, label=\"train accuracy\")\n",
    "plt.plot(range(len(valid_acc)), valid_acc, label=\"valid accuracy\")\n",
    "plt.legend()\n",
    "plt.title(\"Accuracy\")\n",
    "plt.show()"
   ]
  }
 ],
 "metadata": {
  "kernelspec": {
   "display_name": "Python 3",
   "language": "python",
   "name": "python3"
  },
  "language_info": {
   "codemirror_mode": {
    "name": "ipython",
    "version": 3
   },
   "file_extension": ".py",
   "mimetype": "text/x-python",
   "name": "python",
   "nbconvert_exporter": "python",
   "pygments_lexer": "ipython3",
   "version": "3.7.3"
  }
 },
 "nbformat": 4,
 "nbformat_minor": 2
}

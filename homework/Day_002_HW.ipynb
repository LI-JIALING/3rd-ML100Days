{
 "cells": [
  {
   "cell_type": "markdown",
   "metadata": {},
   "source": [
    "## [作業目標]\n",
    "了解機器學習適合應用的領域與範疇。"
   ]
  },
  {
   "cell_type": "markdown",
   "metadata": {},
   "source": [
    "## [作業重點]\n",
    "透過瞭解機器學習的運作方式，找出非常適用機器學習應用的領域及其原因"
   ]
  },
  {
   "cell_type": "markdown",
   "metadata": {},
   "source": [
    "## 作業\n",
    "請找出一個你認為機器學習可以發光發熱的領域並闡述原因? "
   ]
  },
  {
   "cell_type": "markdown",
   "metadata": {},
   "source": [
    "1. 線上客服<br />\n",
    "各行領域，不管是產品或是服務諮詢，大部分的問題都具有規律性，可以透過機器學習問題回答的模式，協助解答基本諮詢問題，減少大量客服人員需重複性回答或是一般基本常見的問題，而能著重於更複雜、更個人化的服務提供。\n",
    "<br /><br />\n",
    "2. 行銷<br />\n",
    "隨著科技普及，數據收集也變個更加便利，每日的數據量以驚人的速度的增長，以商場為例，每日有大量的交易數據產生，透過機器學習，可以分析顧客的偏好行為，找出不同群體有興趣的商品或服務類別，進一步擬定銷售策略，以提升營業收益。"
   ]
  }
 ],
 "metadata": {
  "kernelspec": {
   "display_name": "Python 3",
   "language": "python",
   "name": "python3"
  },
  "language_info": {
   "codemirror_mode": {
    "name": "ipython",
    "version": 3
   },
   "file_extension": ".py",
   "mimetype": "text/x-python",
   "name": "python",
   "nbconvert_exporter": "python",
   "pygments_lexer": "ipython3",
   "version": "3.7.3"
  }
 },
 "nbformat": 4,
 "nbformat_minor": 2
}
